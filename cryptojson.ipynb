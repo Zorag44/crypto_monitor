{
 "cells": [
  {
   "cell_type": "code",
   "execution_count": null,
   "id": "4c469d0e",
   "metadata": {},
   "outputs": [],
   "source": [
    "from requests import Request, Session\n",
    "from requests.exceptions import ConnectionError, Timeout, TooManyRedirects\n",
    "import json\n",
    "import pandas as pd\n",
    "import time\n",
    "crypto=[]\n",
    "price=[]\n",
    "ch24=[]\n",
    "ch7=[]\n",
    "links=[]\n",
    "lst=[name for name in input(\"enter crypto name:\").split(\" \")]\n",
    "c=10\n",
    "while c>=0:\n",
    "    \n",
    "    url = 'https://pro-api.coinmarketcap.com/v1/cryptocurrency/listings/latest'\n",
    "    parameters = {\n",
    "      'start':'1',\n",
    "      'limit':'1000',\n",
    "      'convert':'USD'\n",
    "    }\n",
    "    headers = {\n",
    "      'Accepts': 'application/json',\n",
    "      'X-CMC_PRO_API_KEY': 'ur api key here',\n",
    "    }\n",
    "\n",
    "    session = Session()\n",
    "    session.headers.update(headers)\n",
    "\n",
    "    try:\n",
    "        response = session.get(url, params=parameters)\n",
    "        data = json.loads(response.text)\n",
    "        dataf=json.dumps(data,indent=2)\n",
    "    except (ConnectionError, Timeout, TooManyRedirects) as e:\n",
    "        print(e)\n",
    "    data.pop(\"status\")\n",
    "\n",
    "    #print(json.dumps(data[\"data\"][0],indent=2))\n",
    "    #money=json.dumps(data[\"data\"][0][\"quote\"][\"USD\"],indent=2)\n",
    "    #print(money)\n",
    "\n",
    "    \n",
    "    for i in range(len(data[\"data\"])):\n",
    "        cname=json.dumps(data[\"data\"][i][\"name\"],indent=2)\n",
    "        #print(json.dumps(data[\"data\"][i].pop(\"name\"),indent=2))\n",
    "        #print(json.dumps(data[\"data\"][i].pop(\"USD\"),indent=2))\n",
    "        cnamef=cname[1:-1].lower()\n",
    "        price1=json.dumps(data[\"data\"][i][\"quote\"][\"USD\"][\"price\"],indent=2)\n",
    "        perc_change24=json.dumps(data[\"data\"][i][\"quote\"][\"USD\"][\"percent_change_24h\"],indent=2)\n",
    "        perc_change7=json.dumps(data[\"data\"][i][\"quote\"][\"USD\"][\"percent_change_7d\"],indent=2)\n",
    "        if cnamef.lower() in lst:\n",
    "            crypto.append(cnamef)\n",
    "            price.append(price1)\n",
    "            ch24.append(perc_change24)\n",
    "            ch7.append(perc_change7)\n",
    "    filec=pd.DataFrame({'name':crypto,'price':price,'pc_24h':ch24,'pc_7d':ch7})\n",
    "    filec.to_csv(f'crypto{c}.csv',index=True,encoding='utf-8')\n",
    "    crypto=[]\n",
    "    price=[]\n",
    "    ch24=[]\n",
    "    ch7=[]\n",
    "    c=c-1\n",
    "    time.sleep(15)\n"
   ]
  },
  {
   "cell_type": "code",
   "execution_count": null,
   "id": "b4eb46fc",
   "metadata": {},
   "outputs": [],
   "source": [
    "\"price\": 35818.29055305072,\n",
    "  \"volume_24h\": 36215165231.12524,\n",
    "  \"percent_change_1h\": -1.02396354,\n",
    "  \"percent_change_24h\": -5.09536305,\n",
    "  \"percent_change_7d\": 1.11081446,\n",
    "  \"percent_change_30d\": -36.05850878,\n",
    "  \"percent_change_60d\": -38.57608976,\n",
    "  \"percent_change_90d\": -29.18205024,\n",
    "  \"market_cap\": 670803799292.2362,\n",
    "  \"last_updated\": \"2021-06-06T06:36:02.000Z\""
   ]
  },
  {
   "cell_type": "code",
   "execution_count": null,
   "id": "e5aabe31",
   "metadata": {
    "scrolled": true
   },
   "outputs": [],
   "source": []
  }
 ],
 "metadata": {
  "kernelspec": {
   "display_name": "Python 3",
   "language": "python",
   "name": "python3"
  },
  "language_info": {
   "codemirror_mode": {
    "name": "ipython",
    "version": 3
   },
   "file_extension": ".py",
   "mimetype": "text/x-python",
   "name": "python",
   "nbconvert_exporter": "python",
   "pygments_lexer": "ipython3",
   "version": "3.9.4"
  }
 },
 "nbformat": 4,
 "nbformat_minor": 5
}
